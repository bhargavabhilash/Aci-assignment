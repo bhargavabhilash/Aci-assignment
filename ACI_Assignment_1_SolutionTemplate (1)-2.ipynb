{
 "cells": [
  {
   "cell_type": "markdown",
   "metadata": {
    "id": "MzZ4dJQYF7sH"
   },
   "source": [
    "# Artificial and Computational Intelligence Assignment 1"
   ]
  },
  {
   "cell_type": "markdown",
   "metadata": {
    "id": "Fxb1aE9zF7sK"
   },
   "source": [
    "## Problem solving by Uninformed & Informed Search"
   ]
  },
  {
   "cell_type": "markdown",
   "metadata": {
    "id": "h35jIBbCF7sK"
   },
   "source": [
    "List only the BITS (Name) of active contributors in this assignment:\n",
    "1. ___________________\n",
    "2. __________________\n",
    "3. ____________________\n",
    "4. ___________________\n",
    "5. ___________________"
   ]
  },
  {
   "cell_type": "markdown",
   "metadata": {
    "id": "pt5ygv_zF7sL"
   },
   "source": [
    "Things to follow\n",
    "1.\tUse appropriate data structures to represent the graph and the path using python libraries\n",
    "2.\tProvide proper documentation\n",
    "3.\tFind the path and print it"
   ]
  },
  {
   "cell_type": "markdown",
   "metadata": {
    "id": "wZfop5ElF7sL"
   },
   "source": [
    "Coding begins here"
   ]
  },
  {
   "cell_type": "markdown",
   "metadata": {
    "id": "IL0QDMy3F7sL"
   },
   "source": [
    "### 1.\tDefine the environment in the following block"
   ]
  },
  {
   "cell_type": "markdown",
   "metadata": {
    "id": "RYwJPNLIF7sM"
   },
   "source": [
    "List the PEAS decription of the problem here in this markdown block"
   ]
  },
  {
   "cell_type": "markdown",
   "metadata": {
    "id": "XJ3cHp1IF7sM"
   },
   "source": [
    "Design the agent as PSA Agent(Problem Solving Agent)\n",
    "Clear Initial data structures to define the graph and variable declarations is expected\n",
    "IMPORTATANT: Write distinct code block as below"
   ]
  },
  {
   "cell_type": "code",
   "execution_count": 241,
   "metadata": {
    "id": "osp61RsLF7sN"
   },
   "outputs": [],
   "source": [
    "#Code Block : Set Initial State (Must handle dynamic inputs)\n",
    "import networkx as nx\n",
    "\n",
    "graph = nx.Graph()\n",
    "\n",
    "def set_initial_state(edges,start):\n",
    "    graph.add_weighted_edges_from(edges)\n",
    "    starting_location = start\n",
    "    initial_state =(starting_location, frozenset([starting_location]))\n",
    "    return graph, starting_location, initial_state\n",
    "\n"
   ]
  },
  {
   "cell_type": "code",
   "execution_count": 176,
   "metadata": {
    "id": "XODwoWZ0F7sO"
   },
   "outputs": [
    {
     "name": "stdout",
     "output_type": "stream",
     "text": [
      "['Madukkur', 'Orathanadu', 'Pachiyur', 'Regunathapuram', 'Thanjavur', 'Vadakkur']\n",
      "6\n",
      "[(0, 'Madukkur'), (1, 'Orathanadu'), (2, 'Pachiyur'), (3, 'Regunathapuram'), (4, 'Thanjavur'), (5, 'Vadakkur')]\n",
      "{'Madukkur': 0, 'Orathanadu': 1, 'Pachiyur': 2, 'Regunathapuram': 3, 'Thanjavur': 4, 'Vadakkur': 5}\n",
      "[[0. 0. 1. 1. 0. 0.]\n",
      " [0. 0. 1. 0. 0. 1.]\n",
      " [1. 1. 0. 1. 0. 1.]\n",
      " [1. 0. 1. 0. 1. 0.]\n",
      " [0. 0. 0. 1. 0. 1.]\n",
      " [0. 1. 1. 0. 1. 0.]]\n",
      "[[ 0.  0. 10. 11.  0.  0.]\n",
      " [ 0.  0.  8.  0.  0. 16.]\n",
      " [10.  8.  0. 12.  0.  9.]\n",
      " [11.  0. 12.  0. 17.  0.]\n",
      " [ 0.  0.  0. 17.  0. 14.]\n",
      " [ 0. 16.  9.  0. 14.  0.]]\n"
     ]
    }
   ],
   "source": [
    "#Code Block : Set the matrix for transition & cost (as relevant for the given problem)\n",
    "import numpy as np\n",
    "\n",
    "nodes = sorted(graph.nodes())\n",
    "print(nodes)\n",
    "number_of_nodes = len(nodes)\n",
    "print(number_of_nodes)\n",
    "list_nodes = list(enumerate(nodes))\n",
    "print(list_nodes)\n",
    "dictionary_nodes = {node : i for i, node in list_nodes}\n",
    "print(dictionary_nodes)\n",
    "\n",
    "#Initialize transition and cost matrices\n",
    "transition_matrix = np.zeros((number_of_nodes, number_of_nodes))\n",
    "cost_matrix = np.zeros((number_of_nodes, number_of_nodes))\n",
    "\n",
    "for edge in graph.edges(data=True):\n",
    "    u, v, data = edge\n",
    "    i, j = dictionary_nodes[u], dictionary_nodes[v]\n",
    "    transition_matrix[i, j] = 1\n",
    "    transition_matrix[j, i] = 1  \n",
    "    cost_matrix[i, j] = data['weight']\n",
    "    cost_matrix[j, i] = data['weight']\n",
    "    \n",
    "print(transition_matrix)\n",
    "print(cost_matrix)"
   ]
  },
  {
   "cell_type": "code",
   "execution_count": 178,
   "metadata": {
    "id": "ro24Gaj7F7sO"
   },
   "outputs": [],
   "source": [
    "#Code Block : Write function to design the Transition Model/Successor function. Ideally this would be called while search algorithms are implemented\n",
    "\n",
    "def transition_function_ucs (graph, current_state, action):\n",
    "    current_vertex, visited_places = current_state\n",
    "    new_vertex = action\n",
    "    \n",
    "    #Update the list of visited places\n",
    "    new_vistited_places =  visited_places | {new_vertex} \n",
    "    \n",
    "    \n",
    "    # Get the cost of the action (moving along the edge)\n",
    "    cost = graph[current_vertex][new_vertex]['weight']\n",
    "    return (new_vertex, new_vistited_places), cost\n",
    "\n",
    "# def transtion_function_ucs(graph):\n",
    "#     for neighbor in graph.neighbors(current_vertex):\n",
    "#         if neighbor not in visited_places:  # Only consider unvisited neighbors\n",
    "            \n",
    "#             new_state, action_cost = transition_function_ucs(graph, current_state, neighbor)\n",
    "    "
   ]
  },
  {
   "cell_type": "code",
   "execution_count": 193,
   "metadata": {
    "id": "HIVPhrRWF7sO"
   },
   "outputs": [],
   "source": [
    "#Code block : Write fucntion to handle goal test (Must handle dynamic inputs). Ideally this would be called while search algorithms are implemented\n",
    "\n",
    "def goal_test(vistited_places,graph):\n",
    "    if len(vistited_places) == graph.number_of_nodes():\n",
    "            return True\n",
    "    else:\n",
    "        return False\n",
    "    "
   ]
  },
  {
   "cell_type": "markdown",
   "metadata": {
    "id": "Z4QwDeX5F7sO"
   },
   "source": [
    "### 2.\tDefinition of Algorithm 1 (Uniformed Cost Search)"
   ]
  },
  {
   "cell_type": "code",
   "execution_count": 211,
   "metadata": {
    "id": "zD_EPCHWF7sO"
   },
   "outputs": [
    {
     "name": "stdout",
     "output_type": "stream",
     "text": [
      "Total cost: 66\n",
      "Path taken: Pachiyur -> Orathanadu -> Vadakkur -> Thanjavur -> Regunathapuram -> Madukkur\n"
     ]
    }
   ],
   "source": [
    "#Code Block : Function for algorithm 1 implementation\n",
    "import heapq\n",
    "\n",
    "def uniform_cost_search(graph, start):\n",
    "   \n",
    "    priority_queue = []\n",
    "    heapq.heappush(priority_queue, (0, initial_state, []))\n",
    "    visited_states = {}\n",
    "    \n",
    "    #complexity tracking\n",
    "    nodes_expanded_ucs = 0\n",
    "    max_queue_size_ucs = 0\n",
    "\n",
    "    while priority_queue:\n",
    "        cost, current_state, path = heapq.heappop(priority_queue)\n",
    "        current_vertex, visited_places = current_state\n",
    "        nodes_expanded_ucs += 1\n",
    "        max_queue_size_ucs = max(max_queue_size, len(priority_queue))\n",
    "        \n",
    "        # Goal test\n",
    "        if goal_test(visited_places, graph):\n",
    "            return cost, path + [current_vertex], nodes_expanded_ucs, max_queue_size_ucs\n",
    "        \n",
    "        # Skip processing if this state has been visited with a lower cost\n",
    "        if current_state in visited_states and visited_states[current_state] <= cost:\n",
    "            continue\n",
    "        \n",
    "        # Update the visited states with the current state's cost\n",
    "        visited_states[current_state] = cost\n",
    "        \n",
    "        transition_function_ucs(graph)\n",
    "        \n",
    "        # Expand the current node\n",
    "        for neighbor in graph.neighbors(current_vertex):\n",
    "            if neighbor not in visited_places:  # Only consider unvisited neighbors\n",
    "                new_state, action_cost = transition_function_ucs(graph, current_state, neighbor)\n",
    "                heapq.heappush(priority_queue, (cost + action_cost, new_state, path + [current_vertex]))\n",
    "    \n",
    "    return float('inf'), []  # If no solution found\n",
    "\n",
    "\n",
    "        "
   ]
  },
  {
   "cell_type": "markdown",
   "metadata": {
    "id": "KnbdDl6HF7sO"
   },
   "source": [
    "### 3.\tDefinition of Algorithm 2 (A* Search)"
   ]
  },
  {
   "cell_type": "code",
   "execution_count": 221,
   "metadata": {
    "id": "3HYh7-eJF7sP"
   },
   "outputs": [],
   "source": [
    "#Code Block : Function for algorithm 2 implementation\n",
    "\n",
    "import heapq\n",
    "\n",
    "# Heuristic function to estimate the remaining cost to visit all nodes\n",
    "def calculate_heuristic(unvisited_nodes, graph, current_node):\n",
    "        heuristic_cost = 0\n",
    "        for node in unvisited_nodes:\n",
    "            if graph.has_edge(current_node, node):\n",
    "                min_cost = graph[current_node][node]['weight']\n",
    "                heuristic_cost += min_cost\n",
    "        return heuristic_cost\n",
    "\n",
    "\n",
    "def a_star_search(graph, start):\n",
    "    queue = [(0, 0, start, [start], frozenset([start]))]\n",
    "    visited = {}\n",
    "    total_nodes = len(graph)\n",
    "    \n",
    "    # Complexity tracking\n",
    "    nodes_expanded = 0\n",
    "    max_queue_size = 0\n",
    "    \n",
    "    while queue:\n",
    "        current_priority, current_cost, current_node, path, visited_nodes = heapq.heappop(queue)\n",
    "        \n",
    "        nodes_expanded += 1\n",
    "        max_queue_size = max(max_queue_size, len(queue))\n",
    "        \n",
    "        #Goal test\n",
    "        if goal_test(visited_nodes,graph) :\n",
    "            return path, current_cost, nodes_expanded, max_queue_size\n",
    "        \n",
    "        for neighbor, data in graph[current_node].items():\n",
    "            if neighbor not in visited_nodes:\n",
    "                new_visited_nodes = visited_nodes | {neighbor}\n",
    "                new_cost = current_cost + data['weight']\n",
    "                state = (neighbor, frozenset(new_visited_nodes))\n",
    "                if state not in visited or new_cost < visited[state]:\n",
    "                    visited[state] = new_cost\n",
    "                    heuristic = calculate_heuristic(set(graph.nodes()) - new_visited_nodes, graph, neighbor)\n",
    "                    priority = new_cost + heuristic\n",
    "                    heapq.heappush(queue, (priority, new_cost, neighbor, path + [neighbor], new_visited_nodes))\n",
    "    \n",
    "    return None, float('inf'), nodes_expanded, max_queue_size\n",
    "\n",
    "\n",
    "\n"
   ]
  },
  {
   "cell_type": "markdown",
   "metadata": {
    "id": "LEV2XHccF7sP"
   },
   "source": [
    "### DYNAMIC INPUT"
   ]
  },
  {
   "cell_type": "markdown",
   "metadata": {
    "id": "CylYRo_DF7sP"
   },
   "source": [
    "IMPORTANT : Dynamic Input must be got in this section. Display the possible states to choose from:\n",
    "This is applicable for all the relevent problems as mentioned in the question."
   ]
  },
  {
   "cell_type": "code",
   "execution_count": 233,
   "metadata": {
    "id": "Q5t1Lc-wF7sP"
   },
   "outputs": [
    {
     "name": "stdout",
     "output_type": "stream",
     "text": [
      "graph Graph with 6 nodes and 8 edges\n",
      "starting_location Pachiyur\n",
      "initial_state ('Pachiyur', frozenset({'Pachiyur'}))\n"
     ]
    }
   ],
   "source": [
    "#Code Block : Function & call to get inputs (start/end state)\n",
    "\n",
    "#dynamic edges\n",
    "input_edges = [\n",
    "    ('Thanjavur', 'Vadakkur', 14),\n",
    "    ('Thanjavur', 'Regunathapuram', 17),\n",
    "    ('Vadakkur', 'Pachiyur', 9),\n",
    "    ('Vadakkur', 'Orathanadu', 16),\n",
    "    ('Orathanadu', 'Pachiyur', 8),\n",
    "    ('Pachiyur', 'Regunathapuram', 12),\n",
    "    ('Pachiyur', 'Madukkur', 10),\n",
    "    ('Regunathapuram', 'Madukkur', 11)\n",
    "]\n",
    "start = 'Pachiyur'\n",
    "\n",
    "graph,starting_location,initial_state = set_initial_state(input_edges,start)\n",
    "print(\"graph\",graph)\n",
    "print(\"starting_location\",starting_location)\n",
    "print(\"initial_state\",initial_state)\n",
    "\n"
   ]
  },
  {
   "cell_type": "markdown",
   "metadata": {
    "id": "xsfOP81lF7sP"
   },
   "source": [
    "### 4.\tCalling the search algorithms\n",
    "(For bidirectional search in below sections first part can be used as per Hint provided. Under second section other combinations as per Hint or your choice of 2 algorithms can be called .As an analyst suggest suitable approximation in the comparitive analysis section)"
   ]
  },
  {
   "cell_type": "code",
   "execution_count": 235,
   "metadata": {
    "id": "Og5zI9thF7sP"
   },
   "outputs": [
    {
     "name": "stdout",
     "output_type": "stream",
     "text": [
      "Total cost: 66\n",
      "Path taken: Pachiyur -> Orathanadu -> Vadakkur -> Thanjavur -> Regunathapuram -> Madukkur\n"
     ]
    }
   ],
   "source": [
    "#Invoke algorithm 1 (Should Print the solution, path, cost etc., (As mentioned in the problem))\n",
    "\n",
    "cost, path,nodes_expanded_ucs,max_queue_size_ucs = uniform_cost_search(graph, starting_location)\n",
    "print(\"UCS Total cost:\", total_cost)\n",
    "print(\"UCS Path taken:\", \" -> \".join(path))"
   ]
  },
  {
   "cell_type": "code",
   "execution_count": null,
   "metadata": {
    "id": "u3MJeA6eF7sP"
   },
   "outputs": [
    {
     "name": "stdout",
     "output_type": "stream",
     "text": [
      "Path taken: Pachiyur -> Orathanadu -> Vadakkur -> Thanjavur -> Regunathapuram -> Madukkur\n",
      "Total cost: 66\n"
     ]
    }
   ],
   "source": [
    "#Invoke algorithm 2 (Should Print the solution, path, cost etc., (As mentioned in the problem))\n",
    "path, current_cost, nodes_expanded, max_queue_size = a_star_search(graph, start)\n",
    "\n",
    "print(\"A* Path taken:\", \" -> \".join(path))\n",
    "print(\"A* Total cost:\", current_cost)"
   ]
  },
  {
   "cell_type": "markdown",
   "metadata": {
    "id": "TOU3Rem6F7sQ"
   },
   "source": [
    "### 5.\tComparitive Analysis"
   ]
  },
  {
   "cell_type": "code",
   "execution_count": 239,
   "metadata": {
    "id": "HG6fWwiIF7sQ"
   },
   "outputs": [
    {
     "ename": "NameError",
     "evalue": "name 'O' is not defined",
     "output_type": "error",
     "traceback": [
      "\u001b[0;31m---------------------------------------------------------------------------\u001b[0m",
      "\u001b[0;31mNameError\u001b[0m                                 Traceback (most recent call last)",
      "Cell \u001b[0;32mIn[239], line 2\u001b[0m\n\u001b[1;32m      1\u001b[0m \u001b[38;5;66;03m#Code Block : Print the Time & Space complexity of algorithm 1\u001b[39;00m\n\u001b[0;32m----> 2\u001b[0m \u001b[38;5;28mprint\u001b[39m(\u001b[38;5;124m\"\u001b[39m\u001b[38;5;124mUCS Time Complexity: \u001b[39m\u001b[38;5;124m\"\u001b[39m,O(nodes_expanded_ucs))\n\u001b[1;32m      3\u001b[0m \u001b[38;5;28mprint\u001b[39m(\u001b[38;5;124m\"\u001b[39m\u001b[38;5;124mUCS Space Complexity: \u001b[39m\u001b[38;5;124m\"\u001b[39m,O(max_queue_size_ucs))\n",
      "\u001b[0;31mNameError\u001b[0m: name 'O' is not defined"
     ]
    }
   ],
   "source": [
    "#Code Block : Print the Time & Space complexity of algorithm 1\n",
    "print(\"UCS Time Complexity: \"nodes_expanded_ucs)\n",
    "print(\"UCS Space Complexity: \"max_queue_size_ucs)"
   ]
  },
  {
   "cell_type": "code",
   "execution_count": 215,
   "metadata": {
    "id": "xMButLKCF7sQ"
   },
   "outputs": [
    {
     "name": "stdout",
     "output_type": "stream",
     "text": [
      "19 4\n"
     ]
    }
   ],
   "source": [
    "#Code Block : Print the Time & Space complexity of algorithm 2\n",
    "print(\"A* Time Complexity: \",nodes_expanded)\n",
    "print(\"A* Space Complexity: \",max_queue_size)"
   ]
  },
  {
   "cell_type": "markdown",
   "metadata": {
    "id": "y2nXwAlsF7sQ"
   },
   "source": [
    "### 6.\tProvide your comparitive analysis or findings in no more than 3 lines in below section"
   ]
  },
  {
   "cell_type": "markdown",
   "metadata": {
    "id": "si483-zoF7sQ"
   },
   "source": [
    "Comparison : _______________________________________________\n",
    "\n",
    "________________________________________________________\n",
    "\n",
    "_________________________________________________________"
   ]
  }
 ],
 "metadata": {
  "colab": {
   "provenance": []
  },
  "kernelspec": {
   "display_name": "Python 3 (ipykernel)",
   "language": "python",
   "name": "python3"
  },
  "language_info": {
   "codemirror_mode": {
    "name": "ipython",
    "version": 3
   },
   "file_extension": ".py",
   "mimetype": "text/x-python",
   "name": "python",
   "nbconvert_exporter": "python",
   "pygments_lexer": "ipython3",
   "version": "3.12.4"
  }
 },
 "nbformat": 4,
 "nbformat_minor": 4
}
